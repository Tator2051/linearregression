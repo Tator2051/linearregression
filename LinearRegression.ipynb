{
  "nbformat": 4,
  "nbformat_minor": 0,
  "metadata": {
    "colab": {
      "name": "LinearRegression.ipynb",
      "provenance": []
    },
    "kernelspec": {
      "name": "python3",
      "display_name": "Python 3"
    }
  },
  "cells": [
    {
      "cell_type": "markdown",
      "metadata": {
        "id": "fKi8Xsa4wiNt"
      },
      "source": [
        "# Regresión lineal manual (calculos manuales)"
      ]
    },
    {
      "cell_type": "code",
      "metadata": {
        "id": "wpoYx12g_O7T"
      },
      "source": [
        "import pandas as pd\n",
        "import matplotlib.pyplot as plt\n",
        "import statistics as stats\n",
        "import math\n",
        "import numpy as np\n",
        "from scipy.interpolate import lagrange\n",
        "\n",
        "from google.colab import files\n",
        "\n",
        "#uploaded = files.upload()\n"
      ],
      "execution_count": 2,
      "outputs": []
    },
    {
      "cell_type": "code",
      "metadata": {
        "id": "ePHng0NzPmhm"
      },
      "source": [
        "x = [12.8, 13.9, 14.1, 14.7, 15.0, 15.1, 16.0, 16.5, 16.6, 17.2, 17.9]\n",
        "y = [110, 54, 98, 50, 67, 58, 52, 50, 43, 15, 28]"
      ],
      "execution_count": 1,
      "outputs": []
    },
    {
      "cell_type": "code",
      "metadata": {
        "id": "wsw2WfBcAFa3",
        "colab": {
          "base_uri": "https://localhost:8080/",
          "height": 279
        },
        "outputId": "b2cd2c4b-3136-4853-c108-df4073d48640"
      },
      "source": [
        "# Doing the scatter\n",
        "plt.scatter(x, y)\n",
        "plt.xlabel('Peso en kg')\n",
        "plt.ylabel('Circunferencia de cadera en cm')\n",
        "plt.show()"
      ],
      "execution_count": 3,
      "outputs": [
        {
          "output_type": "display_data",
          "data": {
            "image/png": "[encoded data removed]",
            "text/plain": [
              "<Figure size 432x288 with 1 Axes>"
            ]
          },
          "metadata": {
            "tags": [],
            "needs_background": "light"
          }
        }
      ]
    },
    {
      "cell_type": "code",
      "metadata": {
        "id": "I1bF1tSzAgsO"
      },
      "source": [
        "# Doing the math: Ex, x_media, Ey, y_media, Ex2, Ey2, Exy\n",
        "ex = sum(x)\n",
        "ey = sum(y)\n",
        "\n",
        "x_media = stats.mean(x)\n",
        "y_media = stats.mean(y)\n"
      ],
      "execution_count": 4,
      "outputs": []
    },
    {
      "cell_type": "code",
      "metadata": {
        "id": "G6jQBfb4BQmU"
      },
      "source": [
        "x2 = []\n",
        "for i in x:\n",
        "  square = i*i\n",
        "  x2.append(square)\n",
        "\n",
        "ex2 = sum(x2)\n",
        "\n",
        "y2 = []\n",
        "for e in y:\n",
        "  square = e*e\n",
        "  y2.append(square)\n",
        "\n",
        "ey2 = sum(y2)\n",
        "\n"
      ],
      "execution_count": 5,
      "outputs": []
    },
    {
      "cell_type": "code",
      "metadata": {
        "id": "92a1AR0MCEbn"
      },
      "source": [
        "len_data = len(x)\n",
        "xy = []\n",
        "for index in range(0, len_data):\n",
        "  multiply = (x[index]) * (y[index])\n",
        "  xy.append(multiply)\n",
        "\n",
        "exy = sum(xy)\n"
      ],
      "execution_count": 6,
      "outputs": []
    },
    {
      "cell_type": "code",
      "metadata": {
        "id": "8RJhBnT6EMUj"
      },
      "source": [
        "# xdesv, ydesv, xydesv, coefpearson\n",
        "xdesv = stats.pstdev(x) #always use the poblacionst (pst) not the (st) alone\n",
        "ydesv = stats.pstdev(y)\n",
        "\n",
        "xydesv = (exy / len_data) - (x_media * y_media)\n",
        "\n",
        "coefperson = xydesv / (xdesv * ydesv)\n"
      ],
      "execution_count": 7,
      "outputs": []
    },
    {
      "cell_type": "code",
      "metadata": {
        "id": "_OolQ-xOJp3d",
        "colab": {
          "base_uri": "https://localhost:8080/"
        },
        "outputId": "1b508b8e-db88-4643-e12a-8ae52147e37d"
      },
      "source": [
        "print(coefperson)"
      ],
      "execution_count": null,
      "outputs": [
        {
          "output_type": "stream",
          "text": [
            "-0.852112758280311\n"
          ],
          "name": "stdout"
        }
      ]
    },
    {
      "cell_type": "code",
      "metadata": {
        "id": "r6_PEhQYRL9Q",
        "colab": {
          "base_uri": "https://localhost:8080/"
        },
        "outputId": "ccceea45-9366-4621-ee2e-2868dcbf2d56"
      },
      "source": [
        "# Ecuación de la recta\n",
        "def pendiente(exy, ex, ey, len_data, ex2):\n",
        "  calculate_pend = (len_data * exy) - (ex * ey)\n",
        "  calculate_pend2 = (len_data * ex2) - (ex ** 2)\n",
        "  pendiente = calculate_pend / calculate_pend2\n",
        "  print(pendiente)\n",
        "  return pendiente\n",
        "\n",
        "def ordenada(ey, ex, len_data, pendiente):\n",
        "  calculate_ord = ey - (pendiente * ex)\n",
        "  ordenada = calculate_ord / len_data\n",
        "  print(ordenada)\n",
        "  return ordenada\n",
        "\n",
        "def prediction(ordenada, pendiente, ypredictor):\n",
        "  prediction = ordenada + (pendiente * ypredictor)\n",
        "  print(f'\\nLa predicción para una X de {ypredictor} es una Y = {prediction}')\n",
        "  #return prediction\n",
        "\n",
        "pendiente = pendiente(exy, ex, ey, len_data, ex2)\n",
        "print(exy, ex, ey, len_data, ex2)\n",
        "ordenada = ordenada(ey, ex, len_data, pendiente)\n",
        "predictor = 15\n",
        "prediction(ordenada, pendiente, predictor)\n"
      ],
      "execution_count": 8,
      "outputs": [
        {
          "output_type": "stream",
          "text": [
            "-15.110570712059653\n",
            "9286.2 169.79999999999998 625 11 2645.02\n",
            "290.07044608252085\n",
            "\n",
            "La predicción para una X de 15 es una Y = 63.41188540162605\n"
          ],
          "name": "stdout"
        }
      ]
    },
    {
      "cell_type": "code",
      "metadata": {
        "id": "vOthpfFZw2vQ"
      },
      "source": [
        ""
      ],
      "execution_count": null,
      "outputs": []
    },
    {
      "cell_type": "markdown",
      "metadata": {
        "id": "gccewlfQwz3S"
      },
      "source": [
        "# Regresión lineal con Scikit Learn"
      ]
    },
    {
      "cell_type": "code",
      "metadata": {
        "id": "Z1kc4-Sjwwfq"
      },
      "source": [
        "import pandas as pd\n",
        "import numpy as np\n",
        "import matplotlib.pyplot as plt\n",
        "from sklearn.model_selection import train_test_split\n",
        "from sklearn.linear_model import LinearRegression"
      ],
      "execution_count": null,
      "outputs": []
    },
    {
      "cell_type": "code",
      "metadata": {
        "id": "3wlMBuhow-FC"
      },
      "source": [
        "data = pd.read_csv('bdims.csv')\n",
        "data.columns # wtg (peso en kg) and hipgi (circunferencia de cadera en cm)\n",
        "wgt = data.wgt.values #y\n",
        "\n",
        "hipgi = data.hip_gi.values #x\n",
        "\n",
        "# El modelo lineal espera un Array 2D por lo que hubo que hacer un reshape del array, ya que tiene 1 sólo feauture\n",
        "x = hipgi.reshape(-1, 1)\n",
        "y = wgt.reshape(-1, 1)\n"
      ],
      "execution_count": null,
      "outputs": []
    },
    {
      "cell_type": "code",
      "metadata": {
        "id": "hhogs6LzzMYO"
      },
      "source": [
        "# Otros valores para x, y\n",
        "luz = [12.8, 13.9, 14.1, 14.7, 15.0, 15.1, 16.0, 16.5, 16.6, 17.2, 17.9] #X\n",
        "time = [110, 54, 98, 50, 67, 58, 52, 50, 43, 15, 28] #Y\n",
        "\n",
        "serie_luz = pd.Series(luz)\n",
        "serie_time = pd.Series(time)\n",
        "\n",
        "x = serie_luz.values.reshape(-1, 1)\n",
        "y = serie_time.values.reshape(-1, 1)\n"
      ],
      "execution_count": null,
      "outputs": []
    },
    {
      "cell_type": "code",
      "metadata": {
        "colab": {
          "base_uri": "https://localhost:8080/"
        },
        "id": "y7r9uAk_xMDO",
        "outputId": "c13c2963-b830-4e2e-927a-06e31fe45287"
      },
      "source": [
        "# Training the data\n",
        "X_train, X_test, y_train, y_test = train_test_split(x, y, test_size=0.2, random_state=0)\n",
        "regressor = LinearRegression()\n",
        "regressor.fit(X_train, y_train)"
      ],
      "execution_count": null,
      "outputs": [
        {
          "output_type": "execute_result",
          "data": {
            "text/plain": [
              "LinearRegression(copy_X=True, fit_intercept=True, n_jobs=None, normalize=False)"
            ]
          },
          "metadata": {
            "tags": []
          },
          "execution_count": 40
        }
      ]
    },
    {
      "cell_type": "code",
      "metadata": {
        "colab": {
          "base_uri": "https://localhost:8080/"
        },
        "id": "VSDVmGpDylJg",
        "outputId": "eea31db6-2c43-49d6-f020-6b60698fcbba"
      },
      "source": [
        "print(regressor.intercept_)\n",
        "print(regressor.coef_)"
      ],
      "execution_count": null,
      "outputs": [
        {
          "output_type": "stream",
          "text": [
            "[242.69623781]\n",
            "[[-12.11797492]]\n"
          ],
          "name": "stdout"
        }
      ]
    }
  ]
}